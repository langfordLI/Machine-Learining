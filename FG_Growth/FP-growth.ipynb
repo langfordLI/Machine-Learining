{
 "cells": [
  {
   "cell_type": "markdown",
   "metadata": {},
   "source": [
    "# FP-growth tree(frequent pattern)"
   ]
  },
  {
   "cell_type": "code",
   "execution_count": 237,
   "metadata": {},
   "outputs": [],
   "source": [
    "class treeNode:\n",
    "    def __init__(self, nameValue, numOccur, parentNode):\n",
    "        self.name = nameValue\n",
    "        self.count = numOccur\n",
    "        self.nodeLink = None\n",
    "        self.parent = parentNode\n",
    "        self.children = {}\n",
    "    def inc(self, numOccur):\n",
    "        self.count += numOccur\n",
    "    def disp(self, ind = 1):\n",
    "        print(' ' * ind, self.name, ' ', self.count)\n",
    "        for child in self.children.values():\n",
    "            child.disp(ind + 1)"
   ]
  },
  {
   "cell_type": "code",
   "execution_count": 238,
   "metadata": {},
   "outputs": [],
   "source": [
    "rootNode = treeNode('pyramid', 9, None)"
   ]
  },
  {
   "cell_type": "code",
   "execution_count": 239,
   "metadata": {},
   "outputs": [],
   "source": [
    "rootNode.children['eye'] = treeNode('eye', 13, None)"
   ]
  },
  {
   "cell_type": "code",
   "execution_count": 240,
   "metadata": {},
   "outputs": [
    {
     "name": "stdout",
     "output_type": "stream",
     "text": [
      "  pyramid   9\n",
      "   eye   13\n"
     ]
    }
   ],
   "source": [
    "rootNode.disp()"
   ]
  },
  {
   "cell_type": "code",
   "execution_count": 241,
   "metadata": {},
   "outputs": [],
   "source": [
    "rootNode.children['phoenix'] = treeNode('phoenix', 3, None)"
   ]
  },
  {
   "cell_type": "code",
   "execution_count": 242,
   "metadata": {},
   "outputs": [
    {
     "name": "stdout",
     "output_type": "stream",
     "text": [
      "  pyramid   9\n",
      "   eye   13\n",
      "   phoenix   3\n"
     ]
    }
   ],
   "source": [
    "rootNode.disp()"
   ]
  },
  {
   "cell_type": "markdown",
   "metadata": {},
   "source": [
    "# create FP-Growth"
   ]
  },
  {
   "cell_type": "code",
   "execution_count": 243,
   "metadata": {},
   "outputs": [],
   "source": [
    "def createTree(dataSet, minSup = 1):\n",
    "    headerTable = {}\n",
    "    for trans in dataSet: # traverse every line in dataSet\n",
    "        for item in trans: # traverse every word in line\n",
    "            # 字典get()函数返回指定键的值，如果值不在字典中返回0。\n",
    "            headerTable[item] = headerTable.get(item, 0) + dataSet[trans] # because of every list is frozenset dataSet[trans] = 1\n",
    "            \n",
    "    print(headerTable)\n",
    "    \n",
    "    lessThanMinsup = list(filter(lambda k : headerTable[k] < minSup, headerTable.keys()))\n",
    "    print(lessThanMinsup)\n",
    "    for k in lessThanMinsup:\n",
    "        del(headerTable[k])\n",
    "        \n",
    "    print(headerTable)\n",
    "            \n",
    "#    for k in list(headerTable):\n",
    "#       if headerTable[k] < minSup:\n",
    "#            del(headerTable[k]) # traverse every letter in header table. if in all dataset this letter appeared not larger than minSup delete\n",
    "#            \n",
    "#    print(headerTable)\n",
    "            \n",
    "    freqItemSet = set(headerTable.keys())\n",
    "    if len(freqItemSet) == 0:\n",
    "        return None, None\n",
    "    for k in headerTable:\n",
    "        headerTable[k] = [headerTable[k], None] # 保存计数值及指向每种类型第一个元素的指针\n",
    "    retTree = treeNode('Null Set', 1, None)\n",
    "    for tranSet, count in dataSet.items():\n",
    "        localD = {}\n",
    "        for item in tranSet:\n",
    "            if item in freqItemSet:\n",
    "                localD[item] = headerTable[item][0]\n",
    "#                print(\"**********\")\n",
    "#                print(localD)\n",
    "#                print(\"**********\")\n",
    "        \n",
    "        if len(localD) > 0:\n",
    "            orderdItems = [v[0] for v in sorted(localD.items(), key = lambda p : (p[1], p[0]), reverse = True)]\n",
    "            print(orderdItems)\n",
    "            updateTree(orderdItems, retTree, headerTable, count) # populate tree with ordered freq itemset \n",
    "        print(localD)\n",
    "        print(\"\\n\")\n",
    "            \n",
    "    \n",
    "    return retTree, headerTable"
   ]
  },
  {
   "cell_type": "code",
   "execution_count": 244,
   "metadata": {},
   "outputs": [],
   "source": [
    "def updateTree(items, inTree, headerTable, count):\n",
    "    if items[0] in inTree.children:\n",
    "        inTree.children[items[0]].inc(count)\n",
    "    else:\n",
    "        inTree.children[items[0]] = treeNode(items[0], count, inTree) # all count is 1\n",
    "        if headerTable[items[0]][1] == None:\n",
    "            headerTable[items[0]][1] = inTree.children[items[0]] # 若原来不存在该类别，更新头指针列表\n",
    "        else:\n",
    "            updateHeader(headerTable[items[0]][1], inTree.children[items[0]])\n",
    "    if len(items) > 1:\n",
    "        updateTree(items[1::], inTree.children[items[0]], headerTable, count)"
   ]
  },
  {
   "cell_type": "code",
   "execution_count": 245,
   "metadata": {},
   "outputs": [],
   "source": [
    "def updateHeader(nodeToTest, targetNode):\n",
    "    while(nodeToTest.nodeLink != None):\n",
    "        nodeToTest = nodeToTest.nodeLink\n",
    "    nodeToTest.nodeLink = targetNode"
   ]
  },
  {
   "cell_type": "code",
   "execution_count": 246,
   "metadata": {},
   "outputs": [],
   "source": [
    "def createInitSet(dataSet):\n",
    "    retDict = {}\n",
    "    for trans in dataSet:\n",
    "        retDict[frozenset(trans)] = 1\n",
    "    return retDict"
   ]
  },
  {
   "cell_type": "code",
   "execution_count": 247,
   "metadata": {},
   "outputs": [],
   "source": [
    "def loadSimpDat():\n",
    "    simpDat = [\n",
    "        ['r', 'z', 'h', 'j', 'p'],\n",
    "        ['z', 'y', 'x', 'w', 'v', 'u', 't', 's'],\n",
    "        ['z'],\n",
    "        ['r', 'x', 'n', 'o', 's'],\n",
    "        ['y', 'r', 'x', 'z', 'q', 't', 'p'],\n",
    "        ['y', 'z', 'x', 'e', 'q', 's', 't', 'm']\n",
    "    ]\n",
    "    return simpDat"
   ]
  },
  {
   "cell_type": "code",
   "execution_count": 248,
   "metadata": {},
   "outputs": [],
   "source": [
    "def createInitSet(dataSet):\n",
    "    retDict = {}\n",
    "    for trans in dataSet:\n",
    "        retDict[frozenset(trans)] = 1\n",
    "    return retDict"
   ]
  },
  {
   "cell_type": "code",
   "execution_count": 249,
   "metadata": {},
   "outputs": [],
   "source": [
    "simpDat = loadSimpDat()"
   ]
  },
  {
   "cell_type": "code",
   "execution_count": 250,
   "metadata": {},
   "outputs": [],
   "source": [
    "initSet = createInitSet(simpDat)"
   ]
  },
  {
   "cell_type": "code",
   "execution_count": 251,
   "metadata": {},
   "outputs": [
    {
     "name": "stdout",
     "output_type": "stream",
     "text": [
      "{'p': 2, 'j': 1, 'r': 3, 'h': 1, 'z': 5, 's': 3, 'w': 1, 'v': 1, 'u': 1, 'x': 4, 't': 3, 'y': 3, 'o': 1, 'n': 1, 'q': 2, 'm': 1, 'e': 1}\n",
      "['p', 'j', 'h', 'w', 'v', 'u', 'o', 'n', 'q', 'm', 'e']\n",
      "{'r': 3, 'z': 5, 's': 3, 'x': 4, 't': 3, 'y': 3}\n",
      "['z', 'r']\n",
      "{'r': 3, 'z': 5}\n",
      "\n",
      "\n",
      "['z', 'x', 'y', 't', 's']\n",
      "{'s': 3, 'x': 4, 't': 3, 'y': 3, 'z': 5}\n",
      "\n",
      "\n",
      "['z']\n",
      "{'z': 5}\n",
      "\n",
      "\n",
      "['x', 's', 'r']\n",
      "{'s': 3, 'x': 4, 'r': 3}\n",
      "\n",
      "\n",
      "['z', 'x', 'y', 't', 'r']\n",
      "{'x': 4, 't': 3, 'y': 3, 'r': 3, 'z': 5}\n",
      "\n",
      "\n",
      "['z', 'x', 'y', 't', 's']\n",
      "{'s': 3, 'x': 4, 't': 3, 'y': 3, 'z': 5}\n",
      "\n",
      "\n"
     ]
    }
   ],
   "source": [
    "myFPtree, myHeaderTab = createTree(initSet, 3)"
   ]
  },
  {
   "cell_type": "code",
   "execution_count": 252,
   "metadata": {},
   "outputs": [
    {
     "name": "stdout",
     "output_type": "stream",
     "text": [
      "  Null Set   1\n",
      "   z   5\n",
      "    r   1\n",
      "    x   3\n",
      "     y   3\n",
      "      t   3\n",
      "       s   2\n",
      "       r   1\n",
      "   x   1\n",
      "    s   1\n",
      "     r   1\n"
     ]
    }
   ],
   "source": [
    "myFPtree.disp()"
   ]
  },
  {
   "cell_type": "markdown",
   "metadata": {},
   "source": [
    "# find all paths ending with a given item"
   ]
  },
  {
   "cell_type": "code",
   "execution_count": 253,
   "metadata": {},
   "outputs": [],
   "source": [
    "def ascendTree(leafNode, prefixPath):\n",
    "    if leafNode.parent != None:\n",
    "        prefixPath.append(leafNode.name)\n",
    "        ascendTree(leafNode.parent, prefixPath)"
   ]
  },
  {
   "cell_type": "code",
   "execution_count": 254,
   "metadata": {},
   "outputs": [],
   "source": [
    "def findPrefixPath(basePat, treeNode):\n",
    "    condPats = {} # create a dictionary to save\n",
    "    while treeNode != None:\n",
    "        prefixPath = []\n",
    "        ascendTree(treeNode, prefixPath)\n",
    "        if len(prefixPath) > 1: # if traverse to get prefix path save the path into condPats\n",
    "            condPats[frozenset(prefixPath[1: ])] = treeNode.count\n",
    "        treeNode = treeNode.nodeLink\n",
    "    return condPats"
   ]
  },
  {
   "cell_type": "code",
   "execution_count": 255,
   "metadata": {},
   "outputs": [
    {
     "data": {
      "text/plain": [
       "{frozenset({'z'}): 3}"
      ]
     },
     "execution_count": 255,
     "metadata": {},
     "output_type": "execute_result"
    }
   ],
   "source": [
    "#test\n",
    "findPrefixPath('x', myHeaderTab['x'][1])"
   ]
  },
  {
   "cell_type": "code",
   "execution_count": 256,
   "metadata": {},
   "outputs": [
    {
     "data": {
      "text/plain": [
       "{}"
      ]
     },
     "execution_count": 256,
     "metadata": {},
     "output_type": "execute_result"
    }
   ],
   "source": [
    "findPrefixPath('z', myHeaderTab['z'][1]) # only when prefix path lager than 1, it can get a count of current child node"
   ]
  },
  {
   "cell_type": "code",
   "execution_count": 259,
   "metadata": {},
   "outputs": [],
   "source": [
    "def mineTree(inTree, headerTable, minSup, preFix, freqItemList):\n",
    "    \"\"\"\n",
    "    inTree: has benn created tree\n",
    "    headerTable: head point table\n",
    "    minSup: the minimum support level\n",
    "    preFix: set([]) a blank set which include a blank list\n",
    "    freqItemList: a blank list\n",
    "    \"\"\"\n",
    "    bigL = [v[0] for v in sorted(headerTable.items(), key = lambda p : str(p[1]))]\n",
    "    for basePat in bigL:\n",
    "        newFreqSet = preFix.copy()\n",
    "        newFreqSet.add(basePat) # add element of {t, s, ...} only sort letter v[0]\n",
    "        freqItemList.append(newFreqSet)\n",
    "        condPattBases = findPrefixPath(basePat, headerTable[basePat][1])\n",
    "        myCondTree, myHead = createTree(condPattBases, minSup)\n",
    "        if myHead != None:\n",
    "            print('conditional tree for: ', newFreqSet)\n",
    "            myCondTree.disp(1)\n",
    "            mineTree(myCondTree, myHead, minSup, newFreqSet, freqItemList)"
   ]
  },
  {
   "cell_type": "code",
   "execution_count": 260,
   "metadata": {},
   "outputs": [
    {
     "name": "stdout",
     "output_type": "stream",
     "text": [
      "{'x': 3, 't': 2, 'y': 2, 'z': 2}\n",
      "['t', 'y', 'z']\n",
      "{'x': 3}\n",
      "['x']\n",
      "{'x': 3}\n",
      "\n",
      "\n",
      "['x']\n",
      "{'x': 3}\n",
      "\n",
      "\n",
      "conditional tree for:  {'s'}\n",
      "  Null Set   1\n",
      "   x   3\n",
      "{}\n",
      "[]\n",
      "{}\n",
      "{'z': 2, 's': 1, 'x': 2, 't': 1, 'y': 1}\n",
      "['z', 's', 'x', 't', 'y']\n",
      "{}\n",
      "{'x': 3, 'z': 3}\n",
      "[]\n",
      "{'x': 3, 'z': 3}\n",
      "['z', 'x']\n",
      "{'x': 3, 'z': 3}\n",
      "\n",
      "\n",
      "conditional tree for:  {'y'}\n",
      "  Null Set   1\n",
      "   z   3\n",
      "    x   3\n",
      "{'z': 3}\n",
      "[]\n",
      "{'z': 3}\n",
      "['z']\n",
      "{'z': 3}\n",
      "\n",
      "\n",
      "conditional tree for:  {'x', 'y'}\n",
      "  Null Set   1\n",
      "   z   3\n",
      "{}\n",
      "[]\n",
      "{}\n",
      "{}\n",
      "[]\n",
      "{}\n",
      "{'x': 3, 'y': 3, 'z': 3}\n",
      "[]\n",
      "{'x': 3, 'y': 3, 'z': 3}\n",
      "['z', 'y', 'x']\n",
      "{'x': 3, 'y': 3, 'z': 3}\n",
      "\n",
      "\n",
      "conditional tree for:  {'t'}\n",
      "  Null Set   1\n",
      "   z   3\n",
      "    y   3\n",
      "     x   3\n",
      "{'y': 3, 'z': 3}\n",
      "[]\n",
      "{'y': 3, 'z': 3}\n",
      "['z', 'y']\n",
      "{'y': 3, 'z': 3}\n",
      "\n",
      "\n",
      "conditional tree for:  {'x', 't'}\n",
      "  Null Set   1\n",
      "   z   3\n",
      "    y   3\n",
      "{'z': 3}\n",
      "[]\n",
      "{'z': 3}\n",
      "['z']\n",
      "{'z': 3}\n",
      "\n",
      "\n",
      "conditional tree for:  {'x', 't', 'y'}\n",
      "  Null Set   1\n",
      "   z   3\n",
      "{}\n",
      "[]\n",
      "{}\n",
      "{}\n",
      "[]\n",
      "{}\n",
      "{}\n",
      "[]\n",
      "{}\n",
      "{'z': 3}\n",
      "[]\n",
      "{'z': 3}\n",
      "['z']\n",
      "{'z': 3}\n",
      "\n",
      "\n",
      "conditional tree for:  {'t', 'y'}\n",
      "  Null Set   1\n",
      "   z   3\n",
      "{}\n",
      "[]\n",
      "{}\n",
      "{'z': 3}\n",
      "[]\n",
      "{'z': 3}\n",
      "['z']\n",
      "{'z': 3}\n",
      "\n",
      "\n",
      "conditional tree for:  {'x'}\n",
      "  Null Set   1\n",
      "   z   3\n",
      "{}\n",
      "[]\n",
      "{}\n",
      "{}\n",
      "[]\n",
      "{}\n"
     ]
    }
   ],
   "source": [
    "freqItems = []\n",
    "mineTree(myFPtree, myHeaderTab, 3, set([]), freqItems)"
   ]
  },
  {
   "cell_type": "code",
   "execution_count": null,
   "metadata": {},
   "outputs": [],
   "source": []
  }
 ],
 "metadata": {
  "kernelspec": {
   "display_name": "Python 3",
   "language": "python",
   "name": "python3"
  },
  "language_info": {
   "codemirror_mode": {
    "name": "ipython",
    "version": 3
   },
   "file_extension": ".py",
   "mimetype": "text/x-python",
   "name": "python",
   "nbconvert_exporter": "python",
   "pygments_lexer": "ipython3",
   "version": "3.7.3"
  }
 },
 "nbformat": 4,
 "nbformat_minor": 2
}
